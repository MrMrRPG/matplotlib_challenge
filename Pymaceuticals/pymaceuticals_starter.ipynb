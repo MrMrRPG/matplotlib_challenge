{
 "cells": [
  {
   "cell_type": "markdown",
   "metadata": {},
   "source": [
    "# Pymaceuticals Inc.\n",
    "---\n",
    "\n",
    "### Analysis\n",
    "* Your analysis here ..."
   ]
  },
  {
   "cell_type": "code",
   "execution_count": null,
   "metadata": {},
   "outputs": [],
   "source": [
    "# Dependencies and Setup\n",
    "import matplotlib.pyplot as plt\n",
    "import pandas as pd\n",
    "import numpy as np\n",
    "import scipy.stats as st\n",
    "import random\n",
    "\n",
    "from scipy.stats import linregress\n",
    "\n",
    "# set seed\n",
    "random.seed(69)\n",
    "\n",
    "# Study data files\n",
    "mouse_metadata_path = \"data/Mouse_metadata.csv\"\n",
    "study_results_path = \"data/Study_results.csv\"\n",
    "\n",
    "# Read the mouse data and the study results\n",
    "mouse_metadata = pd.read_csv(mouse_metadata_path)\n",
    "study_results = pd.read_csv(study_results_path)\n",
    "\n",
    "# Combine the data into a single dataset\n",
    "combined_df = pd.merge(study_results, mouse_metadata, on = \"Mouse ID\",\n",
    "                      how=\"left\")\n",
    "\n",
    "# Display the data table for preview\n",
    "combined_df.head()"
   ]
  },
  {
   "cell_type": "code",
   "execution_count": null,
   "metadata": {},
   "outputs": [],
   "source": [
    "# Checking the number of mice.\n",
    "len(combined_df[\"Mouse ID\"].unique())"
   ]
  },
  {
   "cell_type": "code",
   "execution_count": null,
   "metadata": {
    "scrolled": true
   },
   "outputs": [],
   "source": [
    "# Getting the duplicate mice by ID number that shows up for Mouse ID and Timepoint. \n",
    "duped = combined_df[combined_df.duplicated()]\n",
    "duped[[\"Mouse ID\", \"Timepoint\"]]"
   ]
  },
  {
   "cell_type": "code",
   "execution_count": null,
   "metadata": {},
   "outputs": [],
   "source": [
    "# Optional: Get all the data for the duplicate mouse ID. \n",
    "duped_info = duped.iloc[0]\n",
    "duped_id = duped_info[\"Mouse ID\"]\n",
    "\n",
    "all_duped_id = combined_df.loc[combined_df[\"Mouse ID\"] == duped_id] \n",
    "all_duped_id"
   ]
  },
  {
   "cell_type": "code",
   "execution_count": null,
   "metadata": {},
   "outputs": [],
   "source": [
    "# Create a clean DataFrame by dropping the duplicate mouse by its ID.\n",
    "all_duped_index = all_duped_id.index\n",
    "clean_df = combined_df.drop(index = all_duped_index)\n",
    "clean_df.head()"
   ]
  },
  {
   "cell_type": "code",
   "execution_count": null,
   "metadata": {},
   "outputs": [],
   "source": [
    "# Checking the number of mice in the clean DataFrame.\n",
    "len(clean_df[\"Mouse ID\"].unique())"
   ]
  },
  {
   "cell_type": "markdown",
   "metadata": {},
   "source": [
    "## Summary Statistics"
   ]
  },
  {
   "cell_type": "code",
   "execution_count": null,
   "metadata": {},
   "outputs": [],
   "source": [
    "# Generate a summary statistics table of mean, median, variance, standard deviation, and SEM of the tumor volume for each regimen\n",
    "\n",
    "# Use groupby and summary statistical methods to calculate the following properties of each drug regimen: \n",
    "# mean, median, variance, standard deviation, and SEM of the tumor volume. \n",
    "# Assemble the resulting series into a single summary dataframe.\n",
    "\n",
    "# Column definition\n",
    "tumor_vol_col = [\"Tumor Volume (mm3)\"]\n",
    "\n",
    "# Groupby definition\n",
    "drug_grouped_df = clean_df.groupby(clean_df[\"Drug Regimen\"])\n",
    "\n",
    "# Keeping stuff DRY\n",
    "tumor_vol = drug_grouped_df[tumor_vol_col]\n",
    "\n",
    "# Stats definitions\n",
    "mean_tumor_vol = tumor_vol.mean()\n",
    "med_tumor_vol = tumor_vol.median()\n",
    "var_tumor_vol = tumor_vol.var()\n",
    "std_tumor_vol = tumor_vol.std()\n",
    "sem_tumor_vol = tumor_vol.sem()\n",
    "\n",
    "# drug_tumor summary df\n",
    "drug_tumor_df = pd.DataFrame({\n",
    "    \"Mean Tumor Volume\": mean_tumor_vol[\"Tumor Volume (mm3)\"],\n",
    "    \"Median Tumor Volume\": med_tumor_vol[\"Tumor Volume (mm3)\"],\n",
    "    \"Tumor Volume Variance\": var_tumor_vol[\"Tumor Volume (mm3)\"],\n",
    "    \"Tumor Volume Std. Dev.\": std_tumor_vol[\"Tumor Volume (mm3)\"],\n",
    "    \"Tumor Volume Std. Err.\": sem_tumor_vol[\"Tumor Volume (mm3)\"]\n",
    "})\n",
    "\n",
    "drug_tumor_df"
   ]
  },
  {
   "cell_type": "code",
   "execution_count": null,
   "metadata": {
    "scrolled": true
   },
   "outputs": [],
   "source": [
    "# Generate a summary statistics table of mean, median, variance, standard deviation, and SEM of the tumor volume for each regimen\n",
    "\n",
    "# Using the aggregation method, produce the same summary statistics in a single line\n",
    "drug_agg_df = drug_grouped_df.agg(['mean', 'median', 'var', 'std', 'sem'])\n",
    "drug_tumor_agg_df = drug_agg_df[\"Tumor Volume (mm3)\"]\n",
    "drug_tumor_agg_df"
   ]
  },
  {
   "cell_type": "markdown",
   "metadata": {},
   "source": [
    "## Bar and Pie Charts"
   ]
  },
  {
   "cell_type": "code",
   "execution_count": null,
   "metadata": {},
   "outputs": [],
   "source": [
    "# Generate a bar plot showing the total number of unique mice tested on each drug regimen using pandas.\n",
    "# drug_grouped_df[\"Mouse ID\"].value_counts()\n",
    "drug_trial_count = clean_df[\"Drug Regimen\"].value_counts()\n",
    "\n",
    "drug_trial_count.plot(kind = \"bar\")\n",
    "\n",
    "plt.ylabel(\"Number of Unique Mice Tested\")\n",
    "plt.xlabel(\"Drug Regimen\")\n",
    "\n",
    "plt.show()"
   ]
  },
  {
   "cell_type": "code",
   "execution_count": null,
   "metadata": {},
   "outputs": [],
   "source": [
    "# Generate a bar plot showing the total number of unqiue mice tested on each drug regimen using using pyplot.\n",
    "drug_trial_count = clean_df[\"Drug Regimen\"].value_counts()\n",
    "x_axis = np.arange(len(drug_grouped_df))\n",
    "\n",
    "plt.bar(x_axis, drug_trial_count)\n",
    "\n",
    "tick_locations = [value for value in x_axis]\n",
    "plt.xticks(tick_locations, drug_tumor_agg_df.index, rotation = 'vertical')\n",
    "\n",
    "plt.ylabel(\"Number of Unique Mice Tested\")\n",
    "plt.xlabel(\"Drug Regimen\")\n",
    "\n",
    "plt.show()"
   ]
  },
  {
   "cell_type": "code",
   "execution_count": null,
   "metadata": {},
   "outputs": [],
   "source": [
    "# Generate a pie plot showing the distribution of female versus male mice using pandas\n",
    "sex_count = clean_df[\"Sex\"].value_counts()\n",
    "\n",
    "sex_count.plot(kind = \"pie\", autopct = '%1.1f%%')\n",
    "\n",
    "plt.ylabel(\"Sex\")\n",
    "\n",
    "plt.show()"
   ]
  },
  {
   "cell_type": "code",
   "execution_count": null,
   "metadata": {},
   "outputs": [],
   "source": [
    "# Generate a pie plot showing the distribution of female versus male mice using pyplot\n",
    "sex_count = clean_df[\"Sex\"].value_counts()\n",
    "\n",
    "plt.pie(sex_count, labels = clean_df[\"Sex\"].unique(), autopct = \"%1.1f%%\")\n",
    "\n",
    "plt.ylabel(\"Sex\")\n",
    "\n",
    "plt.show()"
   ]
  },
  {
   "cell_type": "markdown",
   "metadata": {},
   "source": [
    "## Quartiles, Outliers and Boxplots"
   ]
  },
  {
   "cell_type": "code",
   "execution_count": null,
   "metadata": {},
   "outputs": [],
   "source": [
    "# Calculate the final tumor volume of each mouse across four of the treatment regimens:  \n",
    "# Capomulin, Ramicane, Infubinol, and Ceftamin\n",
    "\n",
    "# Start by getting the last (greatest) timepoint for each mouse\n",
    "desc_timepoint_df = clean_df.sort_values(by=['Timepoint'], ascending=False)\n",
    "\n",
    "grouped_ID_df = clean_df.groupby(by=[\"Mouse ID\"])\n",
    "max_time_df = grouped_ID_df[\"Timepoint\"].max()\n",
    "\n",
    "# max_time_df.head()\n",
    "# Merge this group df with the original dataframe to get the tumor volume at the last timepoint\n",
    "\n",
    "merge_df = pd.merge(clean_df, max_time_df, on = (\"Mouse ID\", \"Timepoint\"), how = \"right\")\n",
    "merge_df.head()"
   ]
  },
  {
   "cell_type": "code",
   "execution_count": null,
   "metadata": {},
   "outputs": [],
   "source": [
    "# Put treatments into a list for for loop (and later for plot labels)\n",
    "treatment_list = [\"Capomulin\", \"Ramicane\", \"Infubinol\", \"Ceftamin\"]\n",
    "\n",
    "# Create empty list to fill with tumor vol data (for plotting)\n",
    "tumor_vol_list = []\n",
    "\n",
    "# Calculate the IQR and quantitatively determine if there are any potential outliers. \n",
    "for drug in treatment_list:\n",
    "    \n",
    "    # Locate the rows which contain mice on each drug and get the tumor volumes\n",
    "    drug_max_time_df = merge_df.loc[merge_df[\"Drug Regimen\"] == drug]\n",
    "    drug_final_time_df = drug_max_time_df.loc[drug_max_time_df[\"Timepoint\"]==drug_max_time_df[\"Timepoint\"]]\n",
    "    drug_final_tumor_vol_df = drug_max_time_df[\"Tumor Volume (mm3)\"]\n",
    "\n",
    "    # add subset \n",
    "    tumor_vol_list.append(drug_final_tumor_vol_df)\n",
    "    \n",
    "    # Determine outliers using upper and lower bounds   \n",
    "    quartiles = drug_final_tumor_vol_df.quantile([.25, .5, .75])\n",
    "    lowerq = quartiles[0.25]\n",
    "    upperq = quartiles[0.75]\n",
    "    iqr = upperq - lowerq\n",
    "    upperbound = upperq + (1.5*iqr)\n",
    "    lowerbound = lowerq - (1.5*iqr)\n",
    "    outliers = (drug_final_tumor_vol_df.loc[(drug_final_time_df[\"Tumor Volume (mm3)\"] >= upperbound) | \n",
    "                                           (drug_final_time_df[\"Tumor Volume (mm3)\"] <= lowerbound)])\n",
    "    # number of {drug} outliers\n",
    "    print(f\"{drug}'s potential outliers: {outliers}\")\n",
    "    print(f\"\")"
   ]
  },
  {
   "cell_type": "code",
   "execution_count": null,
   "metadata": {},
   "outputs": [],
   "source": [
    "# Generate a box plot of the final tumor volume of each mouse across four regimens of interest\n",
    "\n",
    "# flierprops to make the outlier marker red in color\n",
    "flierprops = dict(marker = 'o', markerfacecolor = 'r', markersize = 12)\n",
    "\n",
    "# Plot\n",
    "fig1, ax1 = plt.subplots()\n",
    "ax1.boxplot(tumor_vol_list, flierprops = flierprops)\n",
    "\n",
    "ax1.set_ylabel('Final Tumor Volume (mm3)')\n",
    "ax1.set_xticklabels(treatment_list)\n",
    "\n",
    "plt.show()"
   ]
  },
  {
   "cell_type": "markdown",
   "metadata": {},
   "source": [
    "## Line and Scatter Plots"
   ]
  },
  {
   "cell_type": "code",
   "execution_count": null,
   "metadata": {},
   "outputs": [],
   "source": [
    "# Generate a line plot of tumor volume vs. time point for a mouse treated with Capomulin\n",
    "capomulin_only = clean_df.loc[clean_df[\"Drug Regimen\"] ==\"Capomulin\"]\n",
    "\n",
    "# Randomly select a mouse from capomulin pool\n",
    "random_mouse = capomulin_only.sample(1, random_state=1)[\"Mouse ID\"]\n",
    "random_mouse_id = random_mouse.iloc[0]\n",
    "\n",
    "# Defining relevent columns\n",
    "selected_mouse = capomulin_only.loc[capomulin_only[\"Mouse ID\"] == random_mouse_id]\n",
    "mouse_time = selected_mouse[\"Timepoint\"]\n",
    "mouse_tum_vol = selected_mouse[\"Tumor Volume (mm3)\"]\n",
    "\n",
    "# Plot\n",
    "u364_treatment = plt.plot(mouse_time, mouse_tum_vol)\n",
    "plt.xlabel(\"Timepoint (days)\")\n",
    "plt.ylabel(\"Tumor Volume (mm3)\")\n",
    "plt.title(f\"Capomulin treatment of mouse {random_mouse_id}\")\n",
    "\n",
    "plt.show()"
   ]
  },
  {
   "cell_type": "code",
   "execution_count": null,
   "metadata": {},
   "outputs": [],
   "source": [
    "# Generate a scatter plot of average tumor volume vs. mouse weight for the Capomulin regimen\n",
    "\n",
    "# defining variables for plot\n",
    "cap_grouped_mice = capomulin_only.groupby(capomulin_only[\"Mouse ID\"])\n",
    "cap_mean_mice_weight = cap_grouped_mice[\"Weight (g)\"].mean()\n",
    "cap_mean_tum_vol = cap_grouped_mice[\"Tumor Volume (mm3)\"].mean()\n",
    "\n",
    "# plot\n",
    "plt.scatter(cap_mean_mice_weight, cap_mean_tum_vol)\n",
    "plt.xlabel(\"Weight (g)\")\n",
    "plt.ylabel(\"Average Tumor Volume (mm3)\")\n",
    "\n",
    "plt.show()"
   ]
  },
  {
   "cell_type": "markdown",
   "metadata": {},
   "source": [
    "## Correlation and Regression"
   ]
  },
  {
   "cell_type": "code",
   "execution_count": null,
   "metadata": {},
   "outputs": [],
   "source": [
    "# Calculate the correlation coefficient and linear regression model \n",
    "# for mouse weight and average tumor volume for the Capomulin regimen\n",
    "\n",
    "# defining variables for regression\n",
    "x = cap_mean_mice_weight\n",
    "y = cap_mean_tum_vol\n",
    "\n",
    "(slope, intercept, rvalue, pvalue, stderr) = linregress(x, y)\n",
    "\n",
    "regress_values = x * slope + intercept\n",
    "\n",
    "# printing the r value\n",
    "print(f\"The correlation between mouse weight(g) and the average tumor volume(mm3) is {round(rvalue, 2)}.\")\n",
    "\n",
    "# plot\n",
    "plt.scatter(cap_mean_mice_weight, cap_mean_tum_vol)\n",
    "\n",
    "plt.plot(x, regress_values, \"r-\")\n",
    "\n",
    "plt.xlabel(\"Weight (g)\")\n",
    "plt.ylabel(\"Average Tumor Volume (mm3)\")\n",
    "\n",
    "plt.show()"
   ]
  },
  {
   "cell_type": "code",
   "execution_count": null,
   "metadata": {},
   "outputs": [],
   "source": []
  }
 ],
 "metadata": {
  "anaconda-cloud": {},
  "kernelspec": {
   "display_name": "Python 3",
   "language": "python",
   "name": "python3"
  },
  "language_info": {
   "codemirror_mode": {
    "name": "ipython",
    "version": 3
   },
   "file_extension": ".py",
   "mimetype": "text/x-python",
   "name": "python",
   "nbconvert_exporter": "python",
   "pygments_lexer": "ipython3",
   "version": "3.8.8"
  }
 },
 "nbformat": 4,
 "nbformat_minor": 4
}
